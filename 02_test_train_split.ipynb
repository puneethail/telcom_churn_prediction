{
 "cells": [
  {
   "cell_type": "code",
   "execution_count": 29,
   "id": "69930b5f",
   "metadata": {},
   "outputs": [],
   "source": [
    "import pandas as pd\n",
    "import numpy as np\n",
    "import matplotlib.pyplot as plt\n",
    "import seaborn as sns\n",
    "from sklearn.model_selection import train_test_split, StratifiedKFold"
   ]
  },
  {
   "cell_type": "code",
   "execution_count": 30,
   "id": "41f00950",
   "metadata": {},
   "outputs": [],
   "source": [
    "df=pd.read_csv(\"cleaned.csv\")"
   ]
  },
  {
   "cell_type": "code",
   "execution_count": 31,
   "id": "ba814f9f",
   "metadata": {},
   "outputs": [],
   "source": [
    "x,y=df.drop('churn',axis=1),df.churn\n",
    "x_train, x_test, y_train, y_test = train_test_split(\n",
    "    x, y,\n",
    "    test_size=0.2,       \n",
    "    random_state=42,     \n",
    "    stratify=y           # preserves class balance\n",
    ")"
   ]
  },
  {
   "cell_type": "code",
   "execution_count": null,
   "id": "a2c8447b",
   "metadata": {},
   "outputs": [],
   "source": [
    "#to balance the remaning dataset\n",
    "from imblearn.over_sampling import SMOTE\n",
    "smote=SMOTE(sampling_strategy='minority')\n",
    "x_train_bal,y_train_bal=smote.fit_resample(x_train,y_train)"
   ]
  },
  {
   "cell_type": "code",
   "execution_count": 33,
   "id": "d6a5333f",
   "metadata": {},
   "outputs": [
    {
     "data": {
      "text/plain": [
       "(8260, 19)"
      ]
     },
     "execution_count": 33,
     "metadata": {},
     "output_type": "execute_result"
    }
   ],
   "source": [
    "x_train_bal.shape"
   ]
  },
  {
   "cell_type": "code",
   "execution_count": 34,
   "id": "77b9ded1",
   "metadata": {},
   "outputs": [
    {
     "data": {
      "text/plain": [
       "Index(['gender', 'seniorcitizen', 'partner', 'dependents', 'tenure',\n",
       "       'phoneservice', 'multiplelines', 'internetservice', 'onlinesecurity',\n",
       "       'onlinebackup', 'deviceprotection', 'techsupport', 'streamingtv',\n",
       "       'streamingmovies', 'contract', 'paperlessbilling', 'paymentmethod',\n",
       "       'monthlycharges', 'totalcharges'],\n",
       "      dtype='object')"
      ]
     },
     "execution_count": 34,
     "metadata": {},
     "output_type": "execute_result"
    }
   ],
   "source": [
    "x_train_bal.columns"
   ]
  },
  {
   "cell_type": "code",
   "execution_count": 35,
   "id": "1fd9343f",
   "metadata": {},
   "outputs": [],
   "source": [
    "x_train_bal.to_csv(\"x_train_bal.csv\",index=False)\n",
    "y_train_bal.to_csv(\"y_train_bal.csv\",index=False)\n",
    "x_test.to_csv(\"x_test.csv\",index=False)\n",
    "y_test.to_csv(\"y_test.csv\",index=False)"
   ]
  }
 ],
 "metadata": {
  "kernelspec": {
   "display_name": "Python 3",
   "language": "python",
   "name": "python3"
  },
  "language_info": {
   "codemirror_mode": {
    "name": "ipython",
    "version": 3
   },
   "file_extension": ".py",
   "mimetype": "text/x-python",
   "name": "python",
   "nbconvert_exporter": "python",
   "pygments_lexer": "ipython3",
   "version": "3.13.2"
  }
 },
 "nbformat": 4,
 "nbformat_minor": 5
}
