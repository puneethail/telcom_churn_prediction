{
 "cells": [
  {
   "cell_type": "code",
   "execution_count": 1,
   "id": "8e6a8451",
   "metadata": {},
   "outputs": [],
   "source": [
    "import pandas as pd\n",
    "import numpy as np\n",
    "from sklearn.ensemble import RandomForestClassifier\n",
    "from sklearn.model_selection import train_test_split, GridSearchCV, RandomizedSearchCV,cross_val_score\n",
    "from sklearn.metrics import accuracy_score, classification_report, roc_auc_score\n"
   ]
  },
  {
   "cell_type": "code",
   "execution_count": 2,
   "id": "850f56ff",
   "metadata": {},
   "outputs": [],
   "source": [
    "selected_features=['partner',\n",
    " 'onlinebackup',\n",
    " 'tenure',\n",
    " 'contract',\n",
    " 'monthlycharges',\n",
    " 'totalcharges',\n",
    " 'techsupport', 'internetservice',\n",
    " 'multiplelines']"
   ]
  },
  {
   "cell_type": "code",
   "execution_count": 3,
   "id": "f958464b",
   "metadata": {},
   "outputs": [],
   "source": [
    "x_train_bal=pd.read_csv(\"x_train_bal.csv\")\n",
    "y_train_bal=pd.read_csv(\"y_train_bal.csv\")\n",
    "x_train_bal=x_train_bal[selected_features]"
   ]
  },
  {
   "cell_type": "code",
   "execution_count": 5,
   "id": "fb001671",
   "metadata": {},
   "outputs": [
    {
     "data": {
      "text/html": [
       "<div>\n",
       "<style scoped>\n",
       "    .dataframe tbody tr th:only-of-type {\n",
       "        vertical-align: middle;\n",
       "    }\n",
       "\n",
       "    .dataframe tbody tr th {\n",
       "        vertical-align: top;\n",
       "    }\n",
       "\n",
       "    .dataframe thead th {\n",
       "        text-align: right;\n",
       "    }\n",
       "</style>\n",
       "<table border=\"1\" class=\"dataframe\">\n",
       "  <thead>\n",
       "    <tr style=\"text-align: right;\">\n",
       "      <th></th>\n",
       "      <th>partner</th>\n",
       "      <th>onlinebackup</th>\n",
       "      <th>tenure</th>\n",
       "      <th>contract</th>\n",
       "      <th>monthlycharges</th>\n",
       "      <th>totalcharges</th>\n",
       "      <th>techsupport</th>\n",
       "      <th>internetservice</th>\n",
       "      <th>multiplelines</th>\n",
       "    </tr>\n",
       "  </thead>\n",
       "  <tbody>\n",
       "    <tr>\n",
       "      <th>0</th>\n",
       "      <td>1</td>\n",
       "      <td>1</td>\n",
       "      <td>65</td>\n",
       "      <td>2</td>\n",
       "      <td>94.55</td>\n",
       "      <td>6078.75</td>\n",
       "      <td>1</td>\n",
       "      <td>2</td>\n",
       "      <td>1</td>\n",
       "    </tr>\n",
       "    <tr>\n",
       "      <th>1</th>\n",
       "      <td>0</td>\n",
       "      <td>0</td>\n",
       "      <td>26</td>\n",
       "      <td>0</td>\n",
       "      <td>35.75</td>\n",
       "      <td>1022.50</td>\n",
       "      <td>1</td>\n",
       "      <td>1</td>\n",
       "      <td>2</td>\n",
       "    </tr>\n",
       "    <tr>\n",
       "      <th>2</th>\n",
       "      <td>1</td>\n",
       "      <td>1</td>\n",
       "      <td>68</td>\n",
       "      <td>2</td>\n",
       "      <td>90.20</td>\n",
       "      <td>6297.65</td>\n",
       "      <td>1</td>\n",
       "      <td>2</td>\n",
       "      <td>1</td>\n",
       "    </tr>\n",
       "    <tr>\n",
       "      <th>3</th>\n",
       "      <td>0</td>\n",
       "      <td>1</td>\n",
       "      <td>3</td>\n",
       "      <td>0</td>\n",
       "      <td>84.30</td>\n",
       "      <td>235.05</td>\n",
       "      <td>0</td>\n",
       "      <td>2</td>\n",
       "      <td>0</td>\n",
       "    </tr>\n",
       "    <tr>\n",
       "      <th>4</th>\n",
       "      <td>1</td>\n",
       "      <td>0</td>\n",
       "      <td>49</td>\n",
       "      <td>0</td>\n",
       "      <td>40.65</td>\n",
       "      <td>2070.75</td>\n",
       "      <td>0</td>\n",
       "      <td>1</td>\n",
       "      <td>2</td>\n",
       "    </tr>\n",
       "  </tbody>\n",
       "</table>\n",
       "</div>"
      ],
      "text/plain": [
       "   partner  onlinebackup  tenure  contract  monthlycharges  totalcharges  \\\n",
       "0        1             1      65         2           94.55       6078.75   \n",
       "1        0             0      26         0           35.75       1022.50   \n",
       "2        1             1      68         2           90.20       6297.65   \n",
       "3        0             1       3         0           84.30        235.05   \n",
       "4        1             0      49         0           40.65       2070.75   \n",
       "\n",
       "   techsupport  internetservice  multiplelines  \n",
       "0            1                2              1  \n",
       "1            1                1              2  \n",
       "2            1                2              1  \n",
       "3            0                2              0  \n",
       "4            0                1              2  "
      ]
     },
     "execution_count": 5,
     "metadata": {},
     "output_type": "execute_result"
    }
   ],
   "source": [
    "x_train_bal.head()"
   ]
  },
  {
   "cell_type": "code",
   "execution_count": 8,
   "id": "49c49a08",
   "metadata": {},
   "outputs": [
    {
     "data": {
      "text/plain": [
       "churn\n",
       "0        4130\n",
       "1        4130\n",
       "Name: count, dtype: int64"
      ]
     },
     "execution_count": 8,
     "metadata": {},
     "output_type": "execute_result"
    }
   ],
   "source": [
    "y_train_bal.value_counts()"
   ]
  },
  {
   "cell_type": "code",
   "execution_count": 9,
   "id": "8b534f9a",
   "metadata": {},
   "outputs": [],
   "source": [
    "param_grid ={\n",
    "    'n_estimators': [50, 100, 200],\n",
    "    'criterion': ['gini', 'entropy'],\n",
    "    'max_depth': [None, 10, 20],\n",
    "    'max_features': ['sqrt', 'log2'],\n",
    "    'min_samples_split': [2, 5],\n",
    "    'min_samples_leaf': [1, 2],\n",
    "    'bootstrap': [True],\n",
    "    'max_leaf_nodes': [None, 10, 20],\n",
    "    'min_impurity_decrease': [0.0, 0.01],\n",
    "    'class_weight': ['balanced'],\n",
    "    'warm_start': [False, True],\n",
    "    'verbose': [0]\n",
    "}"
   ]
  },
  {
   "cell_type": "code",
   "execution_count": 10,
   "id": "9b4a5c8d",
   "metadata": {},
   "outputs": [],
   "source": [
    "grid_skf = GridSearchCV(\n",
    "    estimator=RandomForestClassifier(random_state=42),\n",
    "    param_grid=param_grid,\n",
    "    cv=5,               # <-- use StratifiedKFold here\n",
    "    scoring='accuracy',\n",
    "    verbose=3\n",
    ")"
   ]
  },
  {
   "cell_type": "code",
   "execution_count": null,
   "id": "e6e46863",
   "metadata": {},
   "outputs": [],
   "source": [
    "grid_skf.fit(x_train_bal, y_train_bal)\n",
    "print(\"Best params (StratifiedKFold):\", grid_skf.best_params_)"
   ]
  }
 ],
 "metadata": {
  "kernelspec": {
   "display_name": "Python 3",
   "language": "python",
   "name": "python3"
  },
  "language_info": {
   "codemirror_mode": {
    "name": "ipython",
    "version": 3
   },
   "file_extension": ".py",
   "mimetype": "text/x-python",
   "name": "python",
   "nbconvert_exporter": "python",
   "pygments_lexer": "ipython3",
   "version": "3.13.2"
  }
 },
 "nbformat": 4,
 "nbformat_minor": 5
}
