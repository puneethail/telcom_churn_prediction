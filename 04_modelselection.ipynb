{
 "cells": [
  {
   "cell_type": "code",
   "execution_count": 1,
   "id": "d7b3c5c4",
   "metadata": {},
   "outputs": [],
   "source": [
    "import pandas as pd\n",
    "import numpy as np\n",
    "import matplotlib.pyplot as plt"
   ]
  },
  {
   "cell_type": "code",
   "execution_count": null,
   "id": "540cef59",
   "metadata": {},
   "outputs": [],
   "source": [
    "selected_features=['partner',\n",
    " 'onlinebackup',\n",
    " 'tenure',\n",
    " 'contract',\n",
    " 'monthlycharges',\n",
    " 'totalcharges',\n",
    " 'techsupport', 'internetservice',\n",
    " 'multiplelines']"
   ]
  },
  {
   "cell_type": "code",
   "execution_count": 31,
   "id": "a16df469",
   "metadata": {},
   "outputs": [],
   "source": [
    "\n",
    "x_train_bal=pd.read_csv(\"x_train_bal.csv\")\n",
    "y_train_bal=pd.read_csv(\"y_train_bal.csv\")\n",
    "x_test=pd.read_csv(\"x_test.csv\")\n",
    "y_test=pd.read_csv(\"y_test.csv\")\n",
    "x_train_bal=x_train_bal[selected_features]\n",
    "x_test=x_test[selected_features]"
   ]
  },
  {
   "cell_type": "code",
   "execution_count": 32,
   "id": "f5346f32",
   "metadata": {},
   "outputs": [
    {
     "data": {
      "text/html": [
       "<div>\n",
       "<style scoped>\n",
       "    .dataframe tbody tr th:only-of-type {\n",
       "        vertical-align: middle;\n",
       "    }\n",
       "\n",
       "    .dataframe tbody tr th {\n",
       "        vertical-align: top;\n",
       "    }\n",
       "\n",
       "    .dataframe thead th {\n",
       "        text-align: right;\n",
       "    }\n",
       "</style>\n",
       "<table border=\"1\" class=\"dataframe\">\n",
       "  <thead>\n",
       "    <tr style=\"text-align: right;\">\n",
       "      <th></th>\n",
       "      <th>partner</th>\n",
       "      <th>onlinebackup</th>\n",
       "      <th>tenure</th>\n",
       "      <th>contract</th>\n",
       "      <th>monthlycharges</th>\n",
       "      <th>totalcharges</th>\n",
       "      <th>techsupport</th>\n",
       "      <th>internetservice</th>\n",
       "      <th>multiplelines</th>\n",
       "    </tr>\n",
       "  </thead>\n",
       "  <tbody>\n",
       "    <tr>\n",
       "      <th>0</th>\n",
       "      <td>1</td>\n",
       "      <td>1</td>\n",
       "      <td>59</td>\n",
       "      <td>2</td>\n",
       "      <td>75.95</td>\n",
       "      <td>4542.35</td>\n",
       "      <td>1</td>\n",
       "      <td>1</td>\n",
       "      <td>0</td>\n",
       "    </tr>\n",
       "    <tr>\n",
       "      <th>1</th>\n",
       "      <td>0</td>\n",
       "      <td>1</td>\n",
       "      <td>7</td>\n",
       "      <td>0</td>\n",
       "      <td>78.55</td>\n",
       "      <td>522.95</td>\n",
       "      <td>0</td>\n",
       "      <td>2</td>\n",
       "      <td>1</td>\n",
       "    </tr>\n",
       "    <tr>\n",
       "      <th>2</th>\n",
       "      <td>0</td>\n",
       "      <td>0</td>\n",
       "      <td>54</td>\n",
       "      <td>2</td>\n",
       "      <td>20.10</td>\n",
       "      <td>1079.45</td>\n",
       "      <td>0</td>\n",
       "      <td>0</td>\n",
       "      <td>0</td>\n",
       "    </tr>\n",
       "    <tr>\n",
       "      <th>3</th>\n",
       "      <td>0</td>\n",
       "      <td>0</td>\n",
       "      <td>2</td>\n",
       "      <td>0</td>\n",
       "      <td>20.65</td>\n",
       "      <td>38.70</td>\n",
       "      <td>0</td>\n",
       "      <td>0</td>\n",
       "      <td>0</td>\n",
       "    </tr>\n",
       "    <tr>\n",
       "      <th>4</th>\n",
       "      <td>1</td>\n",
       "      <td>1</td>\n",
       "      <td>71</td>\n",
       "      <td>2</td>\n",
       "      <td>105.15</td>\n",
       "      <td>7555.00</td>\n",
       "      <td>0</td>\n",
       "      <td>2</td>\n",
       "      <td>1</td>\n",
       "    </tr>\n",
       "  </tbody>\n",
       "</table>\n",
       "</div>"
      ],
      "text/plain": [
       "   partner  onlinebackup  tenure  contract  monthlycharges  totalcharges  \\\n",
       "0        1             1      59         2           75.95       4542.35   \n",
       "1        0             1       7         0           78.55        522.95   \n",
       "2        0             0      54         2           20.10       1079.45   \n",
       "3        0             0       2         0           20.65         38.70   \n",
       "4        1             1      71         2          105.15       7555.00   \n",
       "\n",
       "   techsupport  internetservice  multiplelines  \n",
       "0            1                1              0  \n",
       "1            0                2              1  \n",
       "2            0                0              0  \n",
       "3            0                0              0  \n",
       "4            0                2              1  "
      ]
     },
     "execution_count": 32,
     "metadata": {},
     "output_type": "execute_result"
    }
   ],
   "source": [
    "x_test.head()"
   ]
  },
  {
   "cell_type": "code",
   "execution_count": 46,
   "id": "3529c406",
   "metadata": {},
   "outputs": [],
   "source": [
    "dist={\"Model Name\":[\"Random Forest\",\"Decision Tree\",\"LogisticRegression\",\"SVC\",\"GradientBoosting\",\"XGBClassifier\"],\"Accuracy_mean\":[],\"Accuracy\":[],\"Roc_accuracy_mean\":[],\"Roc\":[]}"
   ]
  },
  {
   "cell_type": "code",
   "execution_count": 47,
   "id": "bbbc8a40",
   "metadata": {},
   "outputs": [
    {
     "name": "stdout",
     "output_type": "stream",
     "text": [
      "Cross-Validated Mean AUC: 0.8959\n",
      "Cross-Validated Mean Accuracy: 0.8178\n"
     ]
    },
    {
     "name": "stderr",
     "output_type": "stream",
     "text": [
      "c:\\Users\\PUNEETH\\AppData\\Local\\Programs\\Python\\Python313\\Lib\\site-packages\\sklearn\\base.py:1389: DataConversionWarning: A column-vector y was passed when a 1d array was expected. Please change the shape of y to (n_samples,), for example using ravel().\n",
      "  return fit_method(estimator, *args, **kwargs)\n"
     ]
    },
    {
     "name": "stdout",
     "output_type": "stream",
     "text": [
      "\n",
      "Test Accuracy: 0.747\n",
      "Test AUC: 0.7905\n"
     ]
    }
   ],
   "source": [
    "from sklearn.ensemble import RandomForestClassifier\n",
    "from sklearn.model_selection import cross_val_score\n",
    "from sklearn.metrics import accuracy_score, roc_auc_score\n",
    "\n",
    "# Initialize the Random Forest model\n",
    "rf_model = RandomForestClassifier(n_estimators=100, random_state=42)\n",
    "\n",
    "# Perform 5-fold cross-validation on training data\n",
    "auc_scores_rf = cross_val_score(rf_model, x_train_bal, y_train_bal, \n",
    "                             cv=5, scoring='roc_auc', n_jobs=-1)\n",
    "acc_scores_rf = cross_val_score(rf_model, x_train_bal, y_train_bal,\n",
    "                             cv=5, scoring='accuracy', n_jobs=-1)\n",
    "\n",
    "print(f\"Cross-Validated Mean AUC: {round(auc_scores_rf.mean(), 4)}\")\n",
    "print(f\"Cross-Validated Mean Accuracy: {round(acc_scores_rf.mean(), 4)}\")\n",
    "\n",
    "# Train on full training set\n",
    "rf_model.fit(x_train_bal, y_train_bal,)\n",
    "\n",
    "# Predict on test set\n",
    "y_pred_rf = rf_model.predict(x_test)\n",
    "y_prob_rf = rf_model.predict_proba(x_test)[:, 1]\n",
    "\n",
    "# Evaluate on test set\n",
    "test_accuracy = accuracy_score(y_test, y_pred_rf)\n",
    "test_auc = roc_auc_score(y_test, y_prob_rf)\n",
    "\n",
    "print(f\"\\nTest Accuracy: {round(test_accuracy, 4)}\")\n",
    "print(f\"Test AUC: {round(test_auc, 4)}\")\n",
    "dist[\"Accuracy_mean\"].append(round(auc_scores_rf.mean(), 4))\n",
    "dist[\"Accuracy\"].append(round(test_accuracy, 4))\n",
    "dist[\"Roc_accuracy_mean\"].append(round(acc_scores_rf.mean(), 4))\n",
    "dist[\"Roc\"].append(test_auc)\n"
   ]
  },
  {
   "cell_type": "code",
   "execution_count": 48,
   "id": "4c458570",
   "metadata": {},
   "outputs": [
    {
     "name": "stdout",
     "output_type": "stream",
     "text": [
      "Cross-Validated Mean AUC: 0.7748\n",
      "Cross-Validated Mean Accuracy: 0.7726\n",
      "\n",
      "Test Accuracy: 0.7136\n",
      "Test AUC: 0.6707\n"
     ]
    }
   ],
   "source": [
    "from sklearn.tree import DecisionTreeClassifier\n",
    "# Initialize the Decision Tree model\n",
    "dt_model = DecisionTreeClassifier(random_state=42)\n",
    "\n",
    "# Perform 5-fold cross-validation on training data\n",
    "auc_scores_dt = cross_val_score(dt_model, x_train_bal, y_train_bal,\n",
    "                             cv=5, scoring='roc_auc', n_jobs=-1)\n",
    "acc_scores_dt = cross_val_score(dt_model, x_train_bal, y_train_bal,\n",
    "                             cv=5, scoring='accuracy', n_jobs=-1)\n",
    "\n",
    "print(f\"Cross-Validated Mean AUC: {round(auc_scores_dt.mean(), 4)}\")\n",
    "print(f\"Cross-Validated Mean Accuracy: {round(acc_scores_dt.mean(), 4)}\")\n",
    "\n",
    "# Train on full training set\n",
    "dt_model.fit(x_train_bal, y_train_bal,)\n",
    "\n",
    "# Predict on test set\n",
    "y_pred_dt = dt_model.predict(x_test)\n",
    "y_prob_dt = dt_model.predict_proba(x_test)[:, 1]\n",
    "\n",
    "# Evaluate on test set\n",
    "\n",
    "print(f\"\\nTest Accuracy: {round(accuracy_score(y_test, y_pred_dt), 4)}\")\n",
    "print(f\"Test AUC: {round(roc_auc_score(y_test, y_prob_dt), 4)}\")\n",
    "dist[\"Accuracy_mean\"].append(round(auc_scores_dt.mean(), 4))\n",
    "dist[\"Accuracy\"].append(round(accuracy_score(y_test, y_pred_dt), 4))\n",
    "dist[\"Roc_accuracy_mean\"].append(round(acc_scores_dt.mean(), 4))\n",
    "dist[\"Roc\"].append(round(roc_auc_score(y_test, y_prob_dt), 4))"
   ]
  },
  {
   "cell_type": "code",
   "execution_count": 49,
   "id": "7ad90fe3",
   "metadata": {},
   "outputs": [
    {
     "name": "stdout",
     "output_type": "stream",
     "text": [
      "Cross-Validated Mean AUC: 0.8676\n",
      "Cross-Validated Mean Accuracy: 0.7924\n",
      "\n",
      "Test Accuracy: 0.7107\n",
      "Test AUC: 0.8068\n"
     ]
    },
    {
     "name": "stderr",
     "output_type": "stream",
     "text": [
      "c:\\Users\\PUNEETH\\AppData\\Local\\Programs\\Python\\Python313\\Lib\\site-packages\\sklearn\\utils\\validation.py:1408: DataConversionWarning: A column-vector y was passed when a 1d array was expected. Please change the shape of y to (n_samples, ), for example using ravel().\n",
      "  y = column_or_1d(y, warn=True)\n"
     ]
    }
   ],
   "source": [
    "from sklearn.linear_model import LogisticRegression\n",
    "from sklearn.preprocessing import MinMaxScaler\n",
    "\n",
    "# Scale features between 0 and 1\n",
    "scaler = MinMaxScaler()\n",
    "X_train_scaled = scaler.fit_transform(x_train_bal)\n",
    "X_test_scaled = scaler.transform(x_test)\n",
    "\n",
    "# Initialize Logistic Regression model\n",
    "lr_model = LogisticRegression(max_iter=1000, random_state=42)\n",
    "\n",
    "# Cross-validation on scaled training data\n",
    "auc_scores = cross_val_score(lr_model, X_train_scaled, y_train_bal,\n",
    "                             cv=5, scoring='roc_auc', n_jobs=-1)\n",
    "acc_scores = cross_val_score(lr_model, X_train_scaled, y_train_bal,\n",
    "                             cv=5, scoring='accuracy', n_jobs=-1)\n",
    "\n",
    "print(f\"Cross-Validated Mean AUC: {round(auc_scores.mean(), 4)}\")\n",
    "print(f\"Cross-Validated Mean Accuracy: {round(acc_scores.mean(), 4)}\")\n",
    "\n",
    "# Train on full scaled training set\n",
    "lr_model.fit(X_train_scaled, y_train_bal)\n",
    "\n",
    "# Predict on scaled test set\n",
    "y_pred_LR = lr_model.predict(X_test_scaled)\n",
    "y_prob_LR = lr_model.predict_proba(X_test_scaled)[:, 1]\n",
    "\n",
    "# Evaluate on test set\n",
    "print(f\"\\nTest Accuracy: {round(accuracy_score(y_test, y_pred_LR), 4)}\")\n",
    "print(f\"Test AUC: {round(roc_auc_score(y_test, y_prob_LR), 4)}\")\n",
    "dist[\"Accuracy_mean\"].append(round(auc_scores.mean(), 4))\n",
    "dist[\"Accuracy\"].append(round(accuracy_score(y_test, y_pred_LR), 4))\n",
    "dist[\"Roc_accuracy_mean\"].append(round(acc_scores.mean(), 4))\n",
    "dist[\"Roc\"].append(round(roc_auc_score(y_test, y_prob_LR), 4))\n"
   ]
  },
  {
   "cell_type": "code",
   "execution_count": null,
   "id": "a5349c41",
   "metadata": {},
   "outputs": [
    {
     "name": "stdout",
     "output_type": "stream",
     "text": [
      "Cross-Validated Mean AUC: 0.8541\n",
      "Cross-Validated Mean Accuracy: 0.7834\n"
     ]
    },
    {
     "name": "stderr",
     "output_type": "stream",
     "text": [
      "c:\\Users\\PUNEETH\\AppData\\Local\\Programs\\Python\\Python313\\Lib\\site-packages\\sklearn\\utils\\validation.py:1408: DataConversionWarning: A column-vector y was passed when a 1d array was expected. Please change the shape of y to (n_samples, ), for example using ravel().\n",
      "  y = column_or_1d(y, warn=True)\n"
     ]
    },
    {
     "name": "stdout",
     "output_type": "stream",
     "text": [
      "\n",
      "Test Accuracy: 0.7264\n",
      "Test AUC: 0.7899\n"
     ]
    }
   ],
   "source": [
    "from sklearn.svm import SVC\n",
    "from sklearn.preprocessing import MinMaxScaler\n",
    "\n",
    "\n",
    "# Scale features between 0 and 1\n",
    "scaler = MinMaxScaler()\n",
    "# X_train_scaled = scaler.fit_transform(x_train_bal)\n",
    "# X_test_scaled = scaler.transform()\n",
    "\n",
    "# Initialize SVM model with probability output enabled\n",
    "svm_model = SVC(kernel='linear', probability=True, random_state=42)\n",
    "\n",
    "# Cross-validation on scaled training data\n",
    "auc_scores = cross_val_score(svm_model, X_train_scaled, y_train_bal,\n",
    "                             cv=5, scoring='roc_auc', n_jobs=-1)\n",
    "acc_scores = cross_val_score(svm_model, X_train_scaled, y_train_bal,\n",
    "                             cv=5, scoring='accuracy', n_jobs=-1)\n",
    "\n",
    "print(f\"Cross-Validated Mean AUC: {round(auc_scores.mean(), 4)}\")\n",
    "print(f\"Cross-Validated Mean Accuracy: {round(acc_scores.mean(), 4)}\")\n",
    "\n",
    "# Train on full scaled training set\n",
    "svm_model.fit(X_train_scaled, y_train_bal)\n",
    "\n",
    "# Predict on scaled test set\n",
    "y_pred_svm = svm_model.predict(X_test_scaled)\n",
    "y_prob_svm = svm_model.predict_proba(X_test_scaled)[:, 1]\n",
    "\n",
    "# Evaluate on test set\n",
    "print(f\"\\nTest Accuracy: {round(accuracy_score(y_test, y_pred_svm), 4)}\")\n",
    "print(f\"Test AUC: {round(roc_auc_score(y_test, y_prob_svm), 4)}\")\n",
    "\n",
    "dist[\"Accuracy_mean\"].append(round(auc_scores.mean(), 4))\n",
    "dist[\"Accuracy\"].append(round(accuracy_score(y_test, y_pred_svm), 4))\n",
    "dist[\"Roc_accuracy_mean\"].append(round(acc_scores.mean(), 4))\n",
    "dist[\"Roc\"].append(round(roc_auc_score(y_test, y_prob_svm), 4))"
   ]
  },
  {
   "cell_type": "code",
   "execution_count": 51,
   "id": "a95bf7e5",
   "metadata": {},
   "outputs": [
    {
     "name": "stdout",
     "output_type": "stream",
     "text": [
      "Cross-Validated Mean AUC: 0.8838\n",
      "Cross-Validated Mean Accuracy: 0.8082\n"
     ]
    },
    {
     "name": "stderr",
     "output_type": "stream",
     "text": [
      "c:\\Users\\PUNEETH\\AppData\\Local\\Programs\\Python\\Python313\\Lib\\site-packages\\sklearn\\preprocessing\\_label.py:110: DataConversionWarning: A column-vector y was passed when a 1d array was expected. Please change the shape of y to (n_samples, ), for example using ravel().\n",
      "  y = column_or_1d(y, warn=True)\n"
     ]
    },
    {
     "name": "stdout",
     "output_type": "stream",
     "text": [
      "\n",
      "Test Accuracy: 0.7321\n",
      "Test AUC: 0.8162\n"
     ]
    }
   ],
   "source": [
    "from sklearn.ensemble import GradientBoostingClassifier\n",
    "# Initialize Gradient Boosting model\n",
    "gb_model = GradientBoostingClassifier(n_estimators=100, learning_rate=0.1, random_state=42)\n",
    "\n",
    "# Cross-validation on training data\n",
    "auc_scores = cross_val_score(gb_model, x_train_bal, y_train_bal,\n",
    "                             cv=5, scoring='roc_auc', n_jobs=-1)\n",
    "acc_scores = cross_val_score(gb_model, x_train_bal, y_train_bal,\n",
    "                             cv=5, scoring='accuracy', n_jobs=-1)\n",
    "\n",
    "print(f\"Cross-Validated Mean AUC: {round(auc_scores.mean(), 4)}\")\n",
    "print(f\"Cross-Validated Mean Accuracy: {round(acc_scores.mean(), 4)}\")\n",
    "\n",
    "# Train on full training set\n",
    "gb_model.fit(x_train_bal, y_train_bal)\n",
    "\n",
    "# Predict on test set\n",
    "y_pred_gb = gb_model.predict(x_test)\n",
    "y_prob_gb = gb_model.predict_proba(x_test)[:, 1]\n",
    "\n",
    "# Evaluate on test set\n",
    "print(f\"\\nTest Accuracy: {round(accuracy_score(y_test, y_pred_gb), 4)}\")\n",
    "print(f\"Test AUC: {round(roc_auc_score(y_test, y_prob_gb), 4)}\")\n",
    "\n",
    "dist[\"Accuracy_mean\"].append(round(auc_scores.mean(), 4))\n",
    "dist[\"Accuracy\"].append(round(accuracy_score(y_test, y_pred_gb), 4))\n",
    "dist[\"Roc_accuracy_mean\"].append(round(acc_scores.mean(), 4))\n",
    "dist[\"Roc\"].append(round(roc_auc_score(y_test, y_prob_gb), 4))"
   ]
  },
  {
   "cell_type": "code",
   "execution_count": 52,
   "id": "55861ae1",
   "metadata": {},
   "outputs": [
    {
     "name": "stdout",
     "output_type": "stream",
     "text": [
      "Cross-Validated Mean AUC: 0.8871\n",
      "Cross-Validated Mean Accuracy: 0.8138\n",
      "\n",
      "Test Accuracy: 0.7434\n",
      "Test AUC: 0.8164\n"
     ]
    },
    {
     "name": "stderr",
     "output_type": "stream",
     "text": [
      "c:\\Users\\PUNEETH\\AppData\\Local\\Programs\\Python\\Python313\\Lib\\site-packages\\xgboost\\training.py:183: UserWarning: [17:09:55] WARNING: C:\\actions-runner\\_work\\xgboost\\xgboost\\src\\learner.cc:738: \n",
      "Parameters: { \"use_label_encoder\" } are not used.\n",
      "\n",
      "  bst.update(dtrain, iteration=i, fobj=obj)\n"
     ]
    }
   ],
   "source": [
    "from xgboost import XGBClassifier\n",
    "# Initialize XGBoost model\n",
    "xgb_model = XGBClassifier(\n",
    "    use_label_encoder=False,\n",
    "    eval_metric='logloss',\n",
    "    n_estimators=50,\n",
    "    max_depth=6,\n",
    "    learning_rate=0.1,\n",
    "    random_state=42\n",
    ")\n",
    "\n",
    "# Cross-validation on training data\n",
    "auc_scores_xgb = cross_val_score(xgb_model, x_train_bal, y_train_bal,\n",
    "                             cv=5, scoring='roc_auc', n_jobs=-1)\n",
    "acc_scores_xgb = cross_val_score(xgb_model, x_train_bal, y_train_bal,\n",
    "                             cv=5, scoring='accuracy', n_jobs=-1)\n",
    "\n",
    "print(f\"Cross-Validated Mean AUC: {round(auc_scores_xgb.mean(), 4)}\")\n",
    "print(f\"Cross-Validated Mean Accuracy: {round(acc_scores_xgb.mean(), 4)}\")\n",
    "\n",
    "# Train on full training set\n",
    "xgb_model.fit(x_train_bal, y_train_bal)\n",
    "\n",
    "# Predict on test set\n",
    "y_pred_xgb = xgb_model.predict(x_test)\n",
    "y_prob_xgb = xgb_model.predict_proba(x_test)[:, 1]\n",
    "\n",
    "# Evaluate on test set\n",
    "print(f\"\\nTest Accuracy: {round(accuracy_score(y_test, y_pred_xgb), 4)}\")\n",
    "print(f\"Test AUC: {round(roc_auc_score(y_test, y_prob_xgb), 4)}\")\n",
    "\n",
    "dist[\"Accuracy_mean\"].append(round(auc_scores_xgb.mean(), 4))\n",
    "dist[\"Accuracy\"].append(round(accuracy_score(y_test, y_pred_xgb), 4))\n",
    "dist[\"Roc_accuracy_mean\"].append(round(acc_scores_xgb.mean(), 4))\n",
    "dist[\"Roc\"].append(round(roc_auc_score(y_test, y_prob_xgb), 4))\n"
   ]
  },
  {
   "cell_type": "code",
   "execution_count": 53,
   "id": "d3aa2789",
   "metadata": {},
   "outputs": [],
   "source": [
    "scores_feature2=pd.DataFrame(dist)"
   ]
  },
  {
   "cell_type": "code",
   "execution_count": null,
   "id": "6ce45a0e",
   "metadata": {},
   "outputs": [
    {
     "data": {
      "text/html": [
       "<div>\n",
       "<style scoped>\n",
       "    .dataframe tbody tr th:only-of-type {\n",
       "        vertical-align: middle;\n",
       "    }\n",
       "\n",
       "    .dataframe tbody tr th {\n",
       "        vertical-align: top;\n",
       "    }\n",
       "\n",
       "    .dataframe thead th {\n",
       "        text-align: right;\n",
       "    }\n",
       "</style>\n",
       "<table border=\"1\" class=\"dataframe\">\n",
       "  <thead>\n",
       "    <tr style=\"text-align: right;\">\n",
       "      <th></th>\n",
       "      <th>Model Name</th>\n",
       "      <th>Accuracy_mean</th>\n",
       "      <th>Accuracy</th>\n",
       "      <th>Roc_accuracy_mean</th>\n",
       "      <th>Roc</th>\n",
       "    </tr>\n",
       "  </thead>\n",
       "  <tbody>\n",
       "    <tr>\n",
       "      <th>0</th>\n",
       "      <td>Random Forest</td>\n",
       "      <td>0.9223</td>\n",
       "      <td>0.7683</td>\n",
       "      <td>0.8354</td>\n",
       "      <td>0.803657</td>\n",
       "    </tr>\n",
       "    <tr>\n",
       "      <th>1</th>\n",
       "      <td>Decision Tree</td>\n",
       "      <td>0.7870</td>\n",
       "      <td>0.7171</td>\n",
       "      <td>0.7861</td>\n",
       "      <td>0.666600</td>\n",
       "    </tr>\n",
       "    <tr>\n",
       "      <th>2</th>\n",
       "      <td>LogisticRegression</td>\n",
       "      <td>0.9123</td>\n",
       "      <td>0.7555</td>\n",
       "      <td>0.8207</td>\n",
       "      <td>0.817600</td>\n",
       "    </tr>\n",
       "    <tr>\n",
       "      <th>3</th>\n",
       "      <td>SVC</td>\n",
       "      <td>0.9025</td>\n",
       "      <td>0.7584</td>\n",
       "      <td>0.8144</td>\n",
       "      <td>0.796600</td>\n",
       "    </tr>\n",
       "    <tr>\n",
       "      <th>4</th>\n",
       "      <td>GradientBoosting</td>\n",
       "      <td>0.9098</td>\n",
       "      <td>0.7605</td>\n",
       "      <td>0.8258</td>\n",
       "      <td>0.820100</td>\n",
       "    </tr>\n",
       "  </tbody>\n",
       "</table>\n",
       "</div>"
      ],
      "text/plain": [
       "           Model Name  Accuracy_mean  Accuracy  Roc_accuracy_mean       Roc\n",
       "0       Random Forest         0.9223    0.7683             0.8354  0.803657\n",
       "1       Decision Tree         0.7870    0.7171             0.7861  0.666600\n",
       "2  LogisticRegression         0.9123    0.7555             0.8207  0.817600\n",
       "3                 SVC         0.9025    0.7584             0.8144  0.796600\n",
       "4    GradientBoosting         0.9098    0.7605             0.8258  0.820100"
      ]
     },
     "execution_count": 38,
     "metadata": {},
     "output_type": "execute_result"
    }
   ],
   "source": [
    "#Scores with all the features\n",
    "scores.head()"
   ]
  },
  {
   "cell_type": "code",
   "execution_count": 54,
   "id": "c359f1eb",
   "metadata": {},
   "outputs": [
    {
     "data": {
      "text/html": [
       "<div>\n",
       "<style scoped>\n",
       "    .dataframe tbody tr th:only-of-type {\n",
       "        vertical-align: middle;\n",
       "    }\n",
       "\n",
       "    .dataframe tbody tr th {\n",
       "        vertical-align: top;\n",
       "    }\n",
       "\n",
       "    .dataframe thead th {\n",
       "        text-align: right;\n",
       "    }\n",
       "</style>\n",
       "<table border=\"1\" class=\"dataframe\">\n",
       "  <thead>\n",
       "    <tr style=\"text-align: right;\">\n",
       "      <th></th>\n",
       "      <th>Model Name</th>\n",
       "      <th>Accuracy_mean</th>\n",
       "      <th>Accuracy</th>\n",
       "      <th>Roc_accuracy_mean</th>\n",
       "      <th>Roc</th>\n",
       "    </tr>\n",
       "  </thead>\n",
       "  <tbody>\n",
       "    <tr>\n",
       "      <th>0</th>\n",
       "      <td>Random Forest</td>\n",
       "      <td>0.8959</td>\n",
       "      <td>0.7470</td>\n",
       "      <td>0.8178</td>\n",
       "      <td>0.790547</td>\n",
       "    </tr>\n",
       "    <tr>\n",
       "      <th>1</th>\n",
       "      <td>Decision Tree</td>\n",
       "      <td>0.7748</td>\n",
       "      <td>0.7136</td>\n",
       "      <td>0.7726</td>\n",
       "      <td>0.670700</td>\n",
       "    </tr>\n",
       "    <tr>\n",
       "      <th>2</th>\n",
       "      <td>LogisticRegression</td>\n",
       "      <td>0.8676</td>\n",
       "      <td>0.7107</td>\n",
       "      <td>0.7924</td>\n",
       "      <td>0.806800</td>\n",
       "    </tr>\n",
       "    <tr>\n",
       "      <th>3</th>\n",
       "      <td>SVC</td>\n",
       "      <td>0.8541</td>\n",
       "      <td>0.7264</td>\n",
       "      <td>0.7834</td>\n",
       "      <td>0.789900</td>\n",
       "    </tr>\n",
       "    <tr>\n",
       "      <th>4</th>\n",
       "      <td>GradientBoosting</td>\n",
       "      <td>0.8838</td>\n",
       "      <td>0.7321</td>\n",
       "      <td>0.8082</td>\n",
       "      <td>0.816200</td>\n",
       "    </tr>\n",
       "    <tr>\n",
       "      <th>5</th>\n",
       "      <td>XGBClassifier</td>\n",
       "      <td>0.8871</td>\n",
       "      <td>0.7434</td>\n",
       "      <td>0.8138</td>\n",
       "      <td>0.816400</td>\n",
       "    </tr>\n",
       "  </tbody>\n",
       "</table>\n",
       "</div>"
      ],
      "text/plain": [
       "           Model Name  Accuracy_mean  Accuracy  Roc_accuracy_mean       Roc\n",
       "0       Random Forest         0.8959    0.7470             0.8178  0.790547\n",
       "1       Decision Tree         0.7748    0.7136             0.7726  0.670700\n",
       "2  LogisticRegression         0.8676    0.7107             0.7924  0.806800\n",
       "3                 SVC         0.8541    0.7264             0.7834  0.789900\n",
       "4    GradientBoosting         0.8838    0.7321             0.8082  0.816200\n",
       "5       XGBClassifier         0.8871    0.7434             0.8138  0.816400"
      ]
     },
     "execution_count": 54,
     "metadata": {},
     "output_type": "execute_result"
    }
   ],
   "source": [
    "scores_feature2"
   ]
  },
  {
   "cell_type": "markdown",
   "id": "022b97b3",
   "metadata": {},
   "source": [
    "Looking the at accuracy Random Forest Classifier is Givving better accuracy than other models."
   ]
  },
  {
   "cell_type": "markdown",
   "id": "3e577bf5",
   "metadata": {},
   "source": [
    "Therefore Random Forest Classifier is Selected "
   ]
  }
 ],
 "metadata": {
  "kernelspec": {
   "display_name": "Python 3",
   "language": "python",
   "name": "python3"
  },
  "language_info": {
   "codemirror_mode": {
    "name": "ipython",
    "version": 3
   },
   "file_extension": ".py",
   "mimetype": "text/x-python",
   "name": "python",
   "nbconvert_exporter": "python",
   "pygments_lexer": "ipython3",
   "version": "3.13.2"
  }
 },
 "nbformat": 4,
 "nbformat_minor": 5
}
