{
 "cells": [
  {
   "cell_type": "code",
   "execution_count": 12,
   "id": "8cf71863",
   "metadata": {},
   "outputs": [],
   "source": [
    "import pandas as pd\n",
    "import joblib\n",
    "from sklearn.metrics import accuracy_score, classification_report, roc_auc_score,confusion_matrix"
   ]
  },
  {
   "cell_type": "code",
   "execution_count": 2,
   "id": "251b04c2",
   "metadata": {},
   "outputs": [],
   "source": [
    "selected_features=['partner',\n",
    " 'onlinebackup',\n",
    " 'tenure',\n",
    " 'contract',\n",
    " 'monthlycharges',\n",
    " 'totalcharges',\n",
    " 'techsupport', 'internetservice',\n",
    " 'multiplelines']\n"
   ]
  },
  {
   "cell_type": "code",
   "execution_count": 3,
   "id": "19f5af89",
   "metadata": {},
   "outputs": [],
   "source": [
    "x_test=pd.read_csv(\"x_test.csv\")\n",
    "y_test=pd.read_csv(\"y_test.csv\")\n",
    "x_test=x_test[selected_features]"
   ]
  },
  {
   "cell_type": "code",
   "execution_count": 4,
   "id": "8d2673e8",
   "metadata": {},
   "outputs": [],
   "source": [
    "model = joblib.load('churn_predicter.pkl')"
   ]
  },
  {
   "cell_type": "code",
   "execution_count": 9,
   "id": "da127202",
   "metadata": {},
   "outputs": [],
   "source": [
    "y_predicted=model.predict(x_test)"
   ]
  },
  {
   "cell_type": "code",
   "execution_count": 10,
   "id": "5750c816",
   "metadata": {},
   "outputs": [],
   "source": [
    "report=classification_report(y_test,y_predicted)"
   ]
  },
  {
   "cell_type": "code",
   "execution_count": 11,
   "id": "797373eb",
   "metadata": {},
   "outputs": [
    {
     "name": "stdout",
     "output_type": "stream",
     "text": [
      "Model evaluation:\n",
      "              precision    recall  f1-score   support\n",
      "\n",
      "           0       0.86      0.80      0.83      1033\n",
      "           1       0.54      0.64      0.58       374\n",
      "\n",
      "    accuracy                           0.76      1407\n",
      "   macro avg       0.70      0.72      0.71      1407\n",
      "weighted avg       0.77      0.76      0.76      1407\n",
      "\n"
     ]
    }
   ],
   "source": [
    "print(\"Model evaluation:\")\n",
    "print(report)"
   ]
  },
  {
   "cell_type": "code",
   "execution_count": 13,
   "id": "3fc34169",
   "metadata": {},
   "outputs": [],
   "source": [
    "cm = confusion_matrix(y_test, y_predicted)"
   ]
  },
  {
   "cell_type": "code",
   "execution_count": 19,
   "id": "45f70512",
   "metadata": {},
   "outputs": [
    {
     "name": "stdout",
     "output_type": "stream",
     "text": [
      "Confusion Matrix:\n",
      "True Positive  : 829\n",
      "True Negative  : 238\n",
      "False Positive : 204\n",
      "False Negative : 136\n"
     ]
    }
   ],
   "source": [
    "print(\"Confusion Matrix:\")\n",
    "print(\"True Positive  :\",cm[0][0])\n",
    "print(\"True Negative  :\",cm[1][1])\n",
    "print(\"False Positive :\",cm[0][1])\n",
    "print(\"False Negative :\",cm[1][0])\n"
   ]
  },
  {
   "cell_type": "code",
   "execution_count": null,
   "id": "39e4c478",
   "metadata": {},
   "outputs": [],
   "source": []
  }
 ],
 "metadata": {
  "kernelspec": {
   "display_name": "Python 3",
   "language": "python",
   "name": "python3"
  },
  "language_info": {
   "codemirror_mode": {
    "name": "ipython",
    "version": 3
   },
   "file_extension": ".py",
   "mimetype": "text/x-python",
   "name": "python",
   "nbconvert_exporter": "python",
   "pygments_lexer": "ipython3",
   "version": "3.13.2"
  }
 },
 "nbformat": 4,
 "nbformat_minor": 5
}
